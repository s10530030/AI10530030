{
  "nbformat": 4,
  "nbformat_minor": 0,
  "metadata": {
    "colab": {
      "name": "684.ipynb",
      "version": "0.3.2",
      "provenance": [],
      "collapsed_sections": []
    },
    "kernelspec": {
      "display_name": "Python 3",
      "language": "python",
      "name": "python3"
    }
  },
  "cells": [
    {
      "metadata": {
        "id": "2z0pcIR5EX78",
        "colab_type": "code",
        "colab": {
          "base_uri": "https://localhost:8080/",
          "height": 352
        },
        "outputId": "57f3e8fe-8601-48b0-e9b1-b81ab9751400"
      },
      "cell_type": "code",
      "source": [
        "# plot image\n",
        "import matplotlib.pyplot as plt\n",
        "from matplotlib.image import imread\n",
        "\n",
        "img = imread(\"684.png\") # 画像の読み込み\n",
        "plt.imshow(img)\n",
        "\n",
        "plt.show()\n"
      ],
      "execution_count": 3,
      "outputs": [
        {
          "output_type": "error",
          "ename": "FileNotFoundError",
          "evalue": "ignored",
          "traceback": [
            "\u001b[0;31m---------------------------------------------------------------------------\u001b[0m",
            "\u001b[0;31mFileNotFoundError\u001b[0m                         Traceback (most recent call last)",
            "\u001b[0;32m<ipython-input-3-3f3d8dd026f9>\u001b[0m in \u001b[0;36m<module>\u001b[0;34m()\u001b[0m\n\u001b[1;32m      2\u001b[0m \u001b[0;32mfrom\u001b[0m \u001b[0mmatplotlib\u001b[0m\u001b[0;34m.\u001b[0m\u001b[0mimage\u001b[0m \u001b[0;32mimport\u001b[0m \u001b[0mimread\u001b[0m\u001b[0;34m\u001b[0m\u001b[0m\n\u001b[1;32m      3\u001b[0m \u001b[0;34m\u001b[0m\u001b[0m\n\u001b[0;32m----> 4\u001b[0;31m \u001b[0mimg\u001b[0m \u001b[0;34m=\u001b[0m \u001b[0mimread\u001b[0m\u001b[0;34m(\u001b[0m\u001b[0;34m\"684.png\"\u001b[0m\u001b[0;34m)\u001b[0m \u001b[0;31m# 画像の読み込み\u001b[0m\u001b[0;34m\u001b[0m\u001b[0m\n\u001b[0m\u001b[1;32m      5\u001b[0m \u001b[0mplt\u001b[0m\u001b[0;34m.\u001b[0m\u001b[0mimshow\u001b[0m\u001b[0;34m(\u001b[0m\u001b[0mimg\u001b[0m\u001b[0;34m)\u001b[0m\u001b[0;34m\u001b[0m\u001b[0m\n\u001b[1;32m      6\u001b[0m \u001b[0;34m\u001b[0m\u001b[0m\n",
            "\u001b[0;32m/usr/local/lib/python3.6/dist-packages/matplotlib/image.py\u001b[0m in \u001b[0;36mimread\u001b[0;34m(fname, format)\u001b[0m\n\u001b[1;32m   1319\u001b[0m             \u001b[0;32mreturn\u001b[0m \u001b[0mhandler\u001b[0m\u001b[0;34m(\u001b[0m\u001b[0mfd\u001b[0m\u001b[0;34m)\u001b[0m\u001b[0;34m\u001b[0m\u001b[0m\n\u001b[1;32m   1320\u001b[0m         \u001b[0;32melse\u001b[0m\u001b[0;34m:\u001b[0m\u001b[0;34m\u001b[0m\u001b[0m\n\u001b[0;32m-> 1321\u001b[0;31m             \u001b[0;32mwith\u001b[0m \u001b[0mopen\u001b[0m\u001b[0;34m(\u001b[0m\u001b[0mfname\u001b[0m\u001b[0;34m,\u001b[0m \u001b[0;34m'rb'\u001b[0m\u001b[0;34m)\u001b[0m \u001b[0;32mas\u001b[0m \u001b[0mfd\u001b[0m\u001b[0;34m:\u001b[0m\u001b[0;34m\u001b[0m\u001b[0m\n\u001b[0m\u001b[1;32m   1322\u001b[0m                 \u001b[0;32mreturn\u001b[0m \u001b[0mhandler\u001b[0m\u001b[0;34m(\u001b[0m\u001b[0mfd\u001b[0m\u001b[0;34m)\u001b[0m\u001b[0;34m\u001b[0m\u001b[0m\n\u001b[1;32m   1323\u001b[0m     \u001b[0;32melse\u001b[0m\u001b[0;34m:\u001b[0m\u001b[0;34m\u001b[0m\u001b[0m\n",
            "\u001b[0;31mFileNotFoundError\u001b[0m: [Errno 2] No such file or directory: '684.png'"
          ]
        }
      ]
    },
    {
      "metadata": {
        "id": "E6JD480HEX8C",
        "colab_type": "code",
        "colab": {
          "base_uri": "https://localhost:8080/",
          "height": 122
        },
        "outputId": "c0ab40a4-4791-490a-f49f-58d7f2791e23"
      },
      "cell_type": "code",
      "source": [
        "from google.colab import drive\n",
        "drive.mount('/content/drive/')"
      ],
      "execution_count": 5,
      "outputs": [
        {
          "output_type": "stream",
          "text": [
            "Go to this URL in a browser: https://accounts.google.com/o/oauth2/auth?client_id=947318989803-6bn6qk8qdgf4n4g3pfee6491hc0brc4i.apps.googleusercontent.com&redirect_uri=urn%3Aietf%3Awg%3Aoauth%3A2.0%3Aoob&scope=email%20https%3A%2F%2Fwww.googleapis.com%2Fauth%2Fdocs.test%20https%3A%2F%2Fwww.googleapis.com%2Fauth%2Fdrive%20https%3A%2F%2Fwww.googleapis.com%2Fauth%2Fdrive.photos.readonly%20https%3A%2F%2Fwww.googleapis.com%2Fauth%2Fpeopleapi.readonly&response_type=code\n",
            "\n",
            "Enter your authorization code:\n",
            "··········\n",
            "Mounted at /content/drive/\n"
          ],
          "name": "stdout"
        }
      ]
    },
    {
      "metadata": {
        "id": "k17hnc6gNBDp",
        "colab_type": "code",
        "colab": {
          "base_uri": "https://localhost:8080/",
          "height": 935
        },
        "outputId": "f32b367f-d4ce-4afd-cff3-cf7f268d6ab4"
      },
      "cell_type": "code",
      "source": [
        "!ls \"/content/drive/My Drive/\""
      ],
      "execution_count": 28,
      "outputs": [
        {
          "output_type": "stream",
          "text": [
            " 105.12.24高中聚餐\n",
            " 1-20\n",
            " Amazfit\n",
            " Apk\n",
            " Asus\n",
            "'bluetooth 1.zip'\n",
            "'Colab Notebooks'\n",
            "'Hami Wallet.apk'\n",
            "'Hami Wallet_v1.17.92903_apkpure.com.apk'\n",
            " Htc\n",
            "'iphone 鈴聲'\n",
            " java\n",
            "'Java小考題目 (1).docx'\n",
            " Kreator.3D.v.1.0.A.0.76.b.2097228.Permissions.Removed.apk\n",
            " Line主題\n",
            " Linux\n",
            "'Mac OS.ppt'\n",
            " MiniMovie_Sentimental_160711.mp4\n",
            " MOV_0869.mp4\n",
            "'My Web'\n",
            "'nokia tune'\n",
            " ogyoutube\n",
            " Samsung\n",
            " Sony\n",
            "'Sony Design by MARCO.rar'\n",
            " SQL\n",
            " theme.json\n",
            " unMtlixIpMbHXhCJ.jpg\n",
            " V40.jpg\n",
            " 上機實作.docx\n",
            " 上機實作.pdf\n",
            " 乙級\n",
            " 備審\n",
            " 利用wireshake進行DNS擷取操作.docx\n",
            " 圖片\n",
            " 圖片1\n",
            " 壓縮檔\n",
            " 導航\n",
            " 小米\n",
            " 影片-0002.mp4\n",
            " 手機型號.xlsx\n",
            "'新增資料夾 (2)'\n",
            " 書面資料\n",
            "'烏日戰車公園 105.12.20'\n",
            " 英文\n",
            " 行動電話網路門市.gsheet\n",
            " 行車前準備\n",
            " 資料結構\n",
            "'【跑跑資訊站】KartQuickLogin v2.5.0.zip'\n",
            "'電子一第10組 28廖乙聰 27蔡易志 2王偵丞 9廖柏任.odp'\n",
            "'電子一第10組 28廖乙聰 27蔡易志 2王偵丞 9廖柏任.odt'\n",
            " 電子三高第一電子工程系.pptx\n",
            " 電腦網路\n",
            " 音樂\n"
          ],
          "name": "stdout"
        }
      ]
    },
    {
      "metadata": {
        "id": "zZYwWIJFN2t5",
        "colab_type": "code",
        "colab": {
          "base_uri": "https://localhost:8080/",
          "height": 34
        },
        "outputId": "cd50868c-0104-4f51-e212-1d841446497a"
      },
      "cell_type": "code",
      "source": [
        "cd \"/content/drive/My Drive/Colab Notebooks/\""
      ],
      "execution_count": 29,
      "outputs": [
        {
          "output_type": "stream",
          "text": [
            "/content/drive/My Drive/Colab Notebooks\n"
          ],
          "name": "stdout"
        }
      ]
    },
    {
      "metadata": {
        "id": "JMA04C9JN9RY",
        "colab_type": "code",
        "colab": {
          "base_uri": "https://localhost:8080/",
          "height": 102
        },
        "outputId": "041162d9-2955-4db2-bcd7-7667b68672f2"
      },
      "cell_type": "code",
      "source": [
        "!ls"
      ],
      "execution_count": 30,
      "outputs": [
        {
          "output_type": "stream",
          "text": [
            " 684\t\t\t'Keras_Mnist_Introduce (1).ipynb'  'sony (2).ipynb'\n",
            " 684.ipynb\t\t'Keras_Mnist_Introduce (2).ipynb'   sony.png\n",
            " 684.png\t\t Keras_Mnist_Introduce.ipynb\t    Untitled0.ipynb\n",
            " 8.png\t\t\t Keras_Mnist_MLP_h256.ipynb\t    Untitled1.ipynb\n",
            " Keras_Mnist_CNN.ipynb\t'sony (1).ipynb'\n"
          ],
          "name": "stdout"
        }
      ]
    },
    {
      "metadata": {
        "id": "FvTrjrHdOJzR",
        "colab_type": "code",
        "colab": {
          "base_uri": "https://localhost:8080/",
          "height": 347
        },
        "outputId": "ebccd178-01c7-4394-d3fa-a97694d0acd8"
      },
      "cell_type": "code",
      "source": [
        "# plot image\n",
        "import matplotlib.pyplot as plt\n",
        "from matplotlib.image import imread\n",
        "\n",
        "img = imread('8.png') # 画像の読み込み\n",
        "plt.imshow(img)\n",
        "\n",
        "plt.show()\n"
      ],
      "execution_count": 31,
      "outputs": [
        {
          "output_type": "display_data",
          "data": {
            "image/png": "[encoded data removed]",
            "text/plain": [
              "<matplotlib.figure.Figure at 0x7f1517f43dd8>"
            ]
          },
          "metadata": {
            "tags": []
          }
        }
      ]
    }
  ]
}